{
 "cells": [
  {
   "cell_type": "code",
   "execution_count": 5,
   "metadata": {},
   "outputs": [],
   "source": [
    "import pandas as pd\n",
    "import numpy as np\n",
    "import matplotlib.pyplot as plt\n",
    "plt.rcParams['savefig.dpi'] = 300 #图片像素"
   ]
  },
  {
   "cell_type": "code",
   "execution_count": 6,
   "metadata": {},
   "outputs": [
    {
     "name": "stderr",
     "output_type": "stream",
     "text": [
      "usage: ipykernel_launcher.py [-h] [--model_name MODEL_NAME] [--env ENV]\n                             [--lr LR] [--batch_size BATCH_SIZE]\n                             [--vector_length VECTOR_LENGTH]\n                             [--layers_num LAYERS_NUM] [--units_num UNITS_NUM]\n                             [--act_func ACT_FUNC]\n                             [--optimization OPTIMIZATION]\nipykernel_launcher.py: error: unrecognized arguments: -f /Users/liupeng/Library/Jupyter/runtime/kernel-ceae0402-0094-4f96-b746-d24c7aef0dc0.json\n"
     ]
    },
    {
     "ename": "SystemExit",
     "evalue": "2",
     "traceback": [
      "An exception has occurred, use %tb to see the full traceback.\n",
      "\u001b[0;31mSystemExit\u001b[0m\u001b[0;31m:\u001b[0m 2\n"
     ],
     "output_type": "error"
    },
    {
     "name": "stderr",
     "output_type": "stream",
     "text": [
      "/anaconda3/lib/python3.6/site-packages/IPython/core/interactiveshell.py:2918: UserWarning: To exit: use 'exit', 'quit', or Ctrl-D.\n  warn(\"To exit: use 'exit', 'quit', or Ctrl-D.\", stacklevel=1)\n"
     ]
    }
   ],
   "source": [
    "from preprocess.io import read_log"
   ]
  },
  {
   "cell_type": "code",
   "execution_count": 4,
   "metadata": {},
   "outputs": [],
   "source": [
    "relu1 = read_log('baseline_relu_64_1_100.log').iloc[:-1]\n",
    "sigmoid1 =read_log('baseline_sigmoid_64_1_100_0.1.log').iloc[:-1] \n",
    "tanh1 =read_log('baseline_tanh_64_1_100.log').iloc[:-1] "
   ]
  },
  {
   "cell_type": "code",
   "execution_count": 5,
   "metadata": {},
   "outputs": [],
   "source": [
    "df = relu1[['accuracy']].astype(np.float32)\n",
    "df = df.rename(columns={'accuracy':'relu'})\n",
    "df['sigmoid'] = sigmoid1['accuracy'].astype(np.float32)\n",
    "df['tanh'] = tanh1['accuracy'].astype(np.float32)"
   ]
  },
  {
   "cell_type": "code",
   "execution_count": 6,
   "metadata": {},
   "outputs": [],
   "source": [
    "df.plot()\n",
    "plt.axis([0,500,0.7,1])\n",
    "plt.savefig('img/cp_all_basline.png')"
   ]
  },
  {
   "cell_type": "code",
   "execution_count": 7,
   "metadata": {},
   "outputs": [
    {
     "data": {
      "text/plain": [
       "relu       737\n",
       "sigmoid    122\n",
       "tanh       279\n",
       "dtype: int64"
      ]
     },
     "execution_count": 7,
     "metadata": {},
     "output_type": "execute_result"
    }
   ],
   "source": [
    "df.idxmax()"
   ]
  },
  {
   "cell_type": "code",
   "execution_count": 8,
   "metadata": {},
   "outputs": [],
   "source": [
    "relu1 = read_log('baseline_relu_64_1_100.log').iloc[:-1]\n",
    "relu2 = read_log('baseline_relu_64_2_100.log').iloc[:-1]\n",
    "relu3 = read_log('baseline_relu_64_3_100.log').iloc[:-1]"
   ]
  },
  {
   "cell_type": "code",
   "execution_count": 9,
   "metadata": {},
   "outputs": [],
   "source": [
    "relu = relu1[['accuracy']].astype(np.float32)\n",
    "relu = relu.rename(columns={'accuracy':'1layer'})\n",
    "relu['2layer'] = relu2['accuracy'].astype(np.float32)\n",
    "relu['3layer'] = relu3['accuracy'].astype(np.float32)\n",
    "relu.plot()\n",
    "plt.axis([0,700,0.6,1])\n",
    "plt.savefig('img/cp_relu_layer.png')"
   ]
  },
  {
   "cell_type": "code",
   "execution_count": 10,
   "metadata": {},
   "outputs": [
    {
     "data": {
      "text/plain": [
       "1layer    0.9747\n",
       "2layer    0.9744\n",
       "3layer    0.9159\n",
       "dtype: float32"
      ]
     },
     "execution_count": 10,
     "metadata": {},
     "output_type": "execute_result"
    }
   ],
   "source": [
    "relu.max()"
   ]
  },
  {
   "cell_type": "code",
   "execution_count": 11,
   "metadata": {},
   "outputs": [],
   "source": [
    "relu1_no_lr_self_adapted = read_log('baseline_relu_64_1_100_no_lr_self_adapted.log').iloc[:-1]\n",
    "relu_lr = relu1[['accuracy']].astype(np.float32)\n",
    "relu_lr = relu_lr.rename(columns={'accuracy':'self_adapted'})\n",
    "relu_lr['no_self_adapted'] = relu1_no_lr_self_adapted['accuracy'].astype(np.float32)\n",
    "relu_lr.plot(color=['red','blue'])\n",
    "plt.axis([0,800,0.6,1])\n",
    "plt.savefig('img/cp_relu_lr.png')"
   ]
  },
  {
   "cell_type": "code",
   "execution_count": 12,
   "metadata": {},
   "outputs": [
    {
     "name": "stdout",
     "output_type": "stream",
     "text": [
      "self_adapted       0.9747\n",
      "no_self_adapted    0.9730\n",
      "dtype: float32 self_adapted       737\n",
      "no_self_adapted    680\n",
      "dtype: int64\n"
     ]
    }
   ],
   "source": [
    "print(relu_lr.max(),relu_lr.idxmax())"
   ]
  },
  {
   "cell_type": "code",
   "execution_count": 13,
   "metadata": {},
   "outputs": [],
   "source": [
    "relu1_001 = read_log('baseline(no_decay_lr)_relu_64_1_100_0.01.log').iloc[:-1]\n",
    "relu2_001 = read_log('baseline(no_decay_lr)_relu_64_2_100_0.01.log').iloc[:-1]\n",
    "relu3_001 = read_log('baseline(no_decay_lr)_relu_64_3_100_0.01.log').iloc[:-1]\n",
    "relu_001 = relu1_001[['accuracy']].astype(np.float32)\n",
    "relu_001 = relu_001.rename(columns={'accuracy':'1layer'})\n",
    "relu_001['2layer'] = relu2_001['accuracy'].astype(np.float32)\n",
    "relu_001['3layer'] = relu3_001['accuracy'].astype(np.float32)\n",
    "relu_001.index = relu1_001['time']\n",
    "relu_001.plot()\n",
    "plt.axis([0,800,0.6,1])\n",
    "plt.savefig('img/cp_relu_layer_0.01.png')"
   ]
  },
  {
   "cell_type": "code",
   "execution_count": 14,
   "metadata": {},
   "outputs": [
    {
     "data": {
      "text/plain": [
       "1layer    11:18:08\n",
       "2layer    11:10:48\n",
       "3layer    11:08:05\n",
       "dtype: object"
      ]
     },
     "execution_count": 14,
     "metadata": {},
     "output_type": "execute_result"
    }
   ],
   "source": [
    "relu_001.idxmax()"
   ]
  },
  {
   "cell_type": "code",
   "execution_count": 15,
   "metadata": {},
   "outputs": [],
   "source": [
    "cnn = read_log('cnn_relu_64_1_100.log').iloc[:-1]"
   ]
  },
  {
   "cell_type": "code",
   "execution_count": 16,
   "metadata": {},
   "outputs": [],
   "source": [
    "cnn = cnn[['accuracy']].astype(np.float32)\n",
    "cnn.plot()\n",
    "plt.savefig('img/cnn.png')"
   ]
  },
  {
   "cell_type": "code",
   "execution_count": 23,
   "metadata": {},
   "outputs": [],
   "source": [
    "relu1_cloud = read_log('baseline_cloud_relu_64_1_100_0.1.log').iloc[:-1]"
   ]
  },
  {
   "cell_type": "code",
   "execution_count": 25,
   "metadata": {},
   "outputs": [],
   "source": [
    "relu_cloud = relu1[['accuracy']].astype(np.float32)\n",
    "relu_cloud = relu_cloud.rename(columns={'accuracy':'original'})\n",
    "relu_cloud['cloud'] = relu1_cloud['accuracy'].astype(np.float32)\n",
    "relu_cloud.plot()\n",
    "plt.axis([0,800,0.5,1])\n",
    "plt.savefig('img/relu_cloud.png')"
   ]
  },
  {
   "cell_type": "code",
   "execution_count": 26,
   "metadata": {},
   "outputs": [
    {
     "data": {
      "text/html": [
       "<div>\n",
       "<table border=\"1\" class=\"dataframe\">\n",
       "  <thead>\n",
       "    <tr style=\"text-align: right;\">\n",
       "      <th></th>\n",
       "      <th>original</th>\n",
       "      <th>cloud</th>\n",
       "    </tr>\n",
       "  </thead>\n",
       "  <tbody>\n",
       "    <tr>\n",
       "      <th>0</th>\n",
       "      <td>0.3510</td>\n",
       "      <td>0.7045</td>\n",
       "    </tr>\n",
       "    <tr>\n",
       "      <th>1</th>\n",
       "      <td>0.6130</td>\n",
       "      <td>0.7918</td>\n",
       "    </tr>\n",
       "    <tr>\n",
       "      <th>2</th>\n",
       "      <td>0.7287</td>\n",
       "      <td>0.8306</td>\n",
       "    </tr>\n",
       "    <tr>\n",
       "      <th>3</th>\n",
       "      <td>0.7782</td>\n",
       "      <td>0.8496</td>\n",
       "    </tr>\n",
       "    <tr>\n",
       "      <th>4</th>\n",
       "      <td>0.8046</td>\n",
       "      <td>0.8630</td>\n",
       "    </tr>\n",
       "    <tr>\n",
       "      <th>5</th>\n",
       "      <td>0.8233</td>\n",
       "      <td>0.8719</td>\n",
       "    </tr>\n",
       "    <tr>\n",
       "      <th>6</th>\n",
       "      <td>0.8364</td>\n",
       "      <td>0.8782</td>\n",
       "    </tr>\n",
       "    <tr>\n",
       "      <th>7</th>\n",
       "      <td>0.8486</td>\n",
       "      <td>0.8819</td>\n",
       "    </tr>\n",
       "    <tr>\n",
       "      <th>8</th>\n",
       "      <td>0.8551</td>\n",
       "      <td>0.8854</td>\n",
       "    </tr>\n",
       "    <tr>\n",
       "      <th>9</th>\n",
       "      <td>0.8605</td>\n",
       "      <td>0.8898</td>\n",
       "    </tr>\n",
       "    <tr>\n",
       "      <th>10</th>\n",
       "      <td>0.8681</td>\n",
       "      <td>0.8924</td>\n",
       "    </tr>\n",
       "    <tr>\n",
       "      <th>11</th>\n",
       "      <td>0.8731</td>\n",
       "      <td>0.8958</td>\n",
       "    </tr>\n",
       "    <tr>\n",
       "      <th>12</th>\n",
       "      <td>0.8767</td>\n",
       "      <td>0.8975</td>\n",
       "    </tr>\n",
       "    <tr>\n",
       "      <th>13</th>\n",
       "      <td>0.8802</td>\n",
       "      <td>0.8990</td>\n",
       "    </tr>\n",
       "    <tr>\n",
       "      <th>14</th>\n",
       "      <td>0.8832</td>\n",
       "      <td>0.9010</td>\n",
       "    </tr>\n",
       "    <tr>\n",
       "      <th>15</th>\n",
       "      <td>0.8868</td>\n",
       "      <td>0.9028</td>\n",
       "    </tr>\n",
       "    <tr>\n",
       "      <th>16</th>\n",
       "      <td>0.8893</td>\n",
       "      <td>0.9039</td>\n",
       "    </tr>\n",
       "    <tr>\n",
       "      <th>17</th>\n",
       "      <td>0.8911</td>\n",
       "      <td>0.9060</td>\n",
       "    </tr>\n",
       "    <tr>\n",
       "      <th>18</th>\n",
       "      <td>0.8921</td>\n",
       "      <td>0.9075</td>\n",
       "    </tr>\n",
       "    <tr>\n",
       "      <th>19</th>\n",
       "      <td>0.8933</td>\n",
       "      <td>0.9081</td>\n",
       "    </tr>\n",
       "    <tr>\n",
       "      <th>20</th>\n",
       "      <td>0.8954</td>\n",
       "      <td>0.9096</td>\n",
       "    </tr>\n",
       "    <tr>\n",
       "      <th>21</th>\n",
       "      <td>0.8963</td>\n",
       "      <td>0.9105</td>\n",
       "    </tr>\n",
       "    <tr>\n",
       "      <th>22</th>\n",
       "      <td>0.8976</td>\n",
       "      <td>0.9121</td>\n",
       "    </tr>\n",
       "    <tr>\n",
       "      <th>23</th>\n",
       "      <td>0.8988</td>\n",
       "      <td>0.9128</td>\n",
       "    </tr>\n",
       "    <tr>\n",
       "      <th>24</th>\n",
       "      <td>0.8997</td>\n",
       "      <td>0.9140</td>\n",
       "    </tr>\n",
       "    <tr>\n",
       "      <th>25</th>\n",
       "      <td>0.9002</td>\n",
       "      <td>0.9150</td>\n",
       "    </tr>\n",
       "    <tr>\n",
       "      <th>26</th>\n",
       "      <td>0.9016</td>\n",
       "      <td>0.9158</td>\n",
       "    </tr>\n",
       "    <tr>\n",
       "      <th>27</th>\n",
       "      <td>0.9026</td>\n",
       "      <td>0.9163</td>\n",
       "    </tr>\n",
       "    <tr>\n",
       "      <th>28</th>\n",
       "      <td>0.9047</td>\n",
       "      <td>0.9166</td>\n",
       "    </tr>\n",
       "    <tr>\n",
       "      <th>29</th>\n",
       "      <td>0.9050</td>\n",
       "      <td>0.9183</td>\n",
       "    </tr>\n",
       "    <tr>\n",
       "      <th>...</th>\n",
       "      <td>...</td>\n",
       "      <td>...</td>\n",
       "    </tr>\n",
       "    <tr>\n",
       "      <th>737</th>\n",
       "      <td>0.9747</td>\n",
       "      <td>0.9724</td>\n",
       "    </tr>\n",
       "    <tr>\n",
       "      <th>738</th>\n",
       "      <td>0.9745</td>\n",
       "      <td>0.9724</td>\n",
       "    </tr>\n",
       "    <tr>\n",
       "      <th>739</th>\n",
       "      <td>0.9742</td>\n",
       "      <td>0.9724</td>\n",
       "    </tr>\n",
       "    <tr>\n",
       "      <th>740</th>\n",
       "      <td>0.9745</td>\n",
       "      <td>0.9724</td>\n",
       "    </tr>\n",
       "    <tr>\n",
       "      <th>741</th>\n",
       "      <td>0.9745</td>\n",
       "      <td>0.9724</td>\n",
       "    </tr>\n",
       "    <tr>\n",
       "      <th>742</th>\n",
       "      <td>0.9741</td>\n",
       "      <td>0.9726</td>\n",
       "    </tr>\n",
       "    <tr>\n",
       "      <th>743</th>\n",
       "      <td>0.9744</td>\n",
       "      <td>0.9723</td>\n",
       "    </tr>\n",
       "    <tr>\n",
       "      <th>744</th>\n",
       "      <td>0.9743</td>\n",
       "      <td>0.9726</td>\n",
       "    </tr>\n",
       "    <tr>\n",
       "      <th>745</th>\n",
       "      <td>0.9745</td>\n",
       "      <td>0.9723</td>\n",
       "    </tr>\n",
       "    <tr>\n",
       "      <th>746</th>\n",
       "      <td>0.9742</td>\n",
       "      <td>0.9728</td>\n",
       "    </tr>\n",
       "    <tr>\n",
       "      <th>747</th>\n",
       "      <td>0.9744</td>\n",
       "      <td>0.9725</td>\n",
       "    </tr>\n",
       "    <tr>\n",
       "      <th>748</th>\n",
       "      <td>0.9744</td>\n",
       "      <td>0.9727</td>\n",
       "    </tr>\n",
       "    <tr>\n",
       "      <th>749</th>\n",
       "      <td>0.9745</td>\n",
       "      <td>0.9724</td>\n",
       "    </tr>\n",
       "    <tr>\n",
       "      <th>750</th>\n",
       "      <td>0.9744</td>\n",
       "      <td>0.9728</td>\n",
       "    </tr>\n",
       "    <tr>\n",
       "      <th>751</th>\n",
       "      <td>0.9746</td>\n",
       "      <td>0.9726</td>\n",
       "    </tr>\n",
       "    <tr>\n",
       "      <th>752</th>\n",
       "      <td>0.9746</td>\n",
       "      <td>0.9726</td>\n",
       "    </tr>\n",
       "    <tr>\n",
       "      <th>753</th>\n",
       "      <td>0.9743</td>\n",
       "      <td>0.9728</td>\n",
       "    </tr>\n",
       "    <tr>\n",
       "      <th>754</th>\n",
       "      <td>0.9744</td>\n",
       "      <td>0.9728</td>\n",
       "    </tr>\n",
       "    <tr>\n",
       "      <th>755</th>\n",
       "      <td>0.9745</td>\n",
       "      <td>0.9729</td>\n",
       "    </tr>\n",
       "    <tr>\n",
       "      <th>756</th>\n",
       "      <td>0.9744</td>\n",
       "      <td>0.9726</td>\n",
       "    </tr>\n",
       "    <tr>\n",
       "      <th>757</th>\n",
       "      <td>0.9744</td>\n",
       "      <td>0.9727</td>\n",
       "    </tr>\n",
       "    <tr>\n",
       "      <th>758</th>\n",
       "      <td>0.9743</td>\n",
       "      <td>0.9725</td>\n",
       "    </tr>\n",
       "    <tr>\n",
       "      <th>759</th>\n",
       "      <td>0.9744</td>\n",
       "      <td>0.9726</td>\n",
       "    </tr>\n",
       "    <tr>\n",
       "      <th>760</th>\n",
       "      <td>0.9745</td>\n",
       "      <td>0.9726</td>\n",
       "    </tr>\n",
       "    <tr>\n",
       "      <th>761</th>\n",
       "      <td>0.9746</td>\n",
       "      <td>0.9726</td>\n",
       "    </tr>\n",
       "    <tr>\n",
       "      <th>762</th>\n",
       "      <td>0.9747</td>\n",
       "      <td>0.9728</td>\n",
       "    </tr>\n",
       "    <tr>\n",
       "      <th>763</th>\n",
       "      <td>0.9744</td>\n",
       "      <td>0.9727</td>\n",
       "    </tr>\n",
       "    <tr>\n",
       "      <th>764</th>\n",
       "      <td>0.9744</td>\n",
       "      <td>0.9728</td>\n",
       "    </tr>\n",
       "    <tr>\n",
       "      <th>765</th>\n",
       "      <td>0.9745</td>\n",
       "      <td>0.9727</td>\n",
       "    </tr>\n",
       "    <tr>\n",
       "      <th>766</th>\n",
       "      <td>0.9743</td>\n",
       "      <td>0.9727</td>\n",
       "    </tr>\n",
       "  </tbody>\n",
       "</table>\n",
       "<p>767 rows × 2 columns</p>\n",
       "</div>"
      ],
      "text/plain": [
       "     original   cloud\n",
       "0      0.3510  0.7045\n",
       "1      0.6130  0.7918\n",
       "2      0.7287  0.8306\n",
       "3      0.7782  0.8496\n",
       "4      0.8046  0.8630\n",
       "5      0.8233  0.8719\n",
       "6      0.8364  0.8782\n",
       "7      0.8486  0.8819\n",
       "8      0.8551  0.8854\n",
       "9      0.8605  0.8898\n",
       "10     0.8681  0.8924\n",
       "11     0.8731  0.8958\n",
       "12     0.8767  0.8975\n",
       "13     0.8802  0.8990\n",
       "14     0.8832  0.9010\n",
       "15     0.8868  0.9028\n",
       "16     0.8893  0.9039\n",
       "17     0.8911  0.9060\n",
       "18     0.8921  0.9075\n",
       "19     0.8933  0.9081\n",
       "20     0.8954  0.9096\n",
       "21     0.8963  0.9105\n",
       "22     0.8976  0.9121\n",
       "23     0.8988  0.9128\n",
       "24     0.8997  0.9140\n",
       "25     0.9002  0.9150\n",
       "26     0.9016  0.9158\n",
       "27     0.9026  0.9163\n",
       "28     0.9047  0.9166\n",
       "29     0.9050  0.9183\n",
       "..        ...     ...\n",
       "737    0.9747  0.9724\n",
       "738    0.9745  0.9724\n",
       "739    0.9742  0.9724\n",
       "740    0.9745  0.9724\n",
       "741    0.9745  0.9724\n",
       "742    0.9741  0.9726\n",
       "743    0.9744  0.9723\n",
       "744    0.9743  0.9726\n",
       "745    0.9745  0.9723\n",
       "746    0.9742  0.9728\n",
       "747    0.9744  0.9725\n",
       "748    0.9744  0.9727\n",
       "749    0.9745  0.9724\n",
       "750    0.9744  0.9728\n",
       "751    0.9746  0.9726\n",
       "752    0.9746  0.9726\n",
       "753    0.9743  0.9728\n",
       "754    0.9744  0.9728\n",
       "755    0.9745  0.9729\n",
       "756    0.9744  0.9726\n",
       "757    0.9744  0.9727\n",
       "758    0.9743  0.9725\n",
       "759    0.9744  0.9726\n",
       "760    0.9745  0.9726\n",
       "761    0.9746  0.9726\n",
       "762    0.9747  0.9728\n",
       "763    0.9744  0.9727\n",
       "764    0.9744  0.9728\n",
       "765    0.9745  0.9727\n",
       "766    0.9743  0.9727\n",
       "\n",
       "[767 rows x 2 columns]"
      ]
     },
     "execution_count": 26,
     "metadata": {},
     "output_type": "execute_result"
    }
   ],
   "source": [
    "relu_cloud"
   ]
  },
  {
   "cell_type": "code",
   "execution_count": null,
   "metadata": {},
   "outputs": [],
   "source": []
  }
 ],
 "metadata": {
  "anaconda-cloud": {},
  "kernelspec": {
   "display_name": "Python [Anaconda3]",
   "language": "python",
   "name": "Python [Anaconda3]"
  },
  "language_info": {
   "codemirror_mode": {
    "name": "ipython",
    "version": 3
   },
   "file_extension": ".py",
   "mimetype": "text/x-python",
   "name": "python",
   "nbconvert_exporter": "python",
   "pygments_lexer": "ipython3",
   "version": "3.5.2"
  }
 },
 "nbformat": 4,
 "nbformat_minor": 2
}
