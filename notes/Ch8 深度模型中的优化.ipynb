{
 "cells": [
  {
   "cell_type": "markdown",
   "metadata": {},
   "source": [
    "# 8 深度模型中的优化\n",
    "## 8.1 批量算法和小批量算法\n",
    "机器学习中通常只用训练集整个代价函数中的一部分项来估计代价函数的期望值，原因如下：    \n",
    "1. 因为整个代价函数的计算代价非常大，且回想n个样本均值的标准差是$\\frac{\\delta}{\\sqrt{n}}$,可以看到使用更多样本误差减小的回报是低于线性的，如10000个样本计算量是100个样本的100倍，但是标准差却只降低10倍，所以使用小批量算法收敛更快。    \n",
    "2. 训练集冗余，大部分样本对梯度作出相似的贡献，所以抽取小样本，能保证不冗余。     \n",
    "此外，为了保证无偏估计，小批量中的样本要保持独立，且相邻梯度的样本也要保持独立，不独立意味着采样不随机，会造成偏差过大。     \n",
    "**关于无偏估计**：训练集只有在第一遍被遍历时，才是无偏估计，遵循真实泛化误差的梯度，当到第二遍时，由于它重新抽取已经用过的样本，将会是有偏的，当然，额外的遍历能减小训练误差。"
   ]
  },
  {
   "cell_type": "code",
   "execution_count": null,
   "metadata": {},
   "outputs": [],
   "source": []
  }
 ],
 "metadata": {
  "kernelspec": {
   "display_name": "Python 3",
   "language": "python",
   "name": "python3"
  },
  "language_info": {
   "codemirror_mode": {
    "name": "ipython",
    "version": 3
   },
   "file_extension": ".py",
   "mimetype": "text/x-python",
   "name": "python",
   "nbconvert_exporter": "python",
   "pygments_lexer": "ipython3",
   "version": "3.6.4"
  }
 },
 "nbformat": 4,
 "nbformat_minor": 2
}
