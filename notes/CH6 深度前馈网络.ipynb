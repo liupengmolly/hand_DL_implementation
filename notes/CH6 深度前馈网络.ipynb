{
 "cells": [
  {
   "cell_type": "markdown",
   "metadata": {},
   "source": [
    "# 深度前馈网络\n",
    "之所以叫前馈神经网络，是因为模型的输出与模型之间没有反馈连接，当前馈神经网络被扩展或包含反馈连接时，被称为**循环神经网络**。    \n",
    "神经网络为非线性变换，但也可以理解为对线性变化加了一个非线性映射$\\phi(x)$。传统的机器学习是选择一个通用的函数（如高斯，往往泛化效果不好）或者根据不同领域、不同模型人为设计，而深度学习通过数据去学习。    \n",
    "此外在深度学习中线性函数可以立即为最后的输出层的仿射，而非线性映射是前面的隐藏层。    \n",
    "线性模型和神经网络的最大区别在于神经网络的非线性使得**大多数代价函数变得非凸**。"
   ]
  },
  {
   "cell_type": "code",
   "execution_count": null,
   "metadata": {},
   "outputs": [],
   "source": []
  }
 ],
 "metadata": {
  "kernelspec": {
   "display_name": "Python 3",
   "language": "python",
   "name": "python3"
  },
  "language_info": {
   "codemirror_mode": {
    "name": "ipython",
    "version": 3
   },
   "file_extension": ".py",
   "mimetype": "text/x-python",
   "name": "python",
   "nbconvert_exporter": "python",
   "pygments_lexer": "ipython3",
   "version": "3.6.4"
  }
 },
 "nbformat": 4,
 "nbformat_minor": 2
}
