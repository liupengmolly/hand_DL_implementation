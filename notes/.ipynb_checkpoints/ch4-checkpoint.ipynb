{
 "cells": [
  {
   "cell_type": "markdown",
   "metadata": {
    "collapsed": true
   },
   "source": [
    "# 4 数值计算\n",
    "## 4.1 病态条件    \n",
    "条件数是指函数相对于输入的微小变化二变化的快慢程度，考虑函数$f(x) = A^{-1}x $， 当$A\\in R^{n\\times n}$具有特征分解时，其条件数为：    \n",
    "&emsp; $ \\max \\limits_{\\quad i,j} \\arrowvert \\frac{\\lambda_i}{\\lambda_j}\\arrowvert $    \n",
    "即最大特征值与最小特征值的模之比，当该数非常大时，矩阵求逆对输入的误差特别敏感。     \n",
    "矩阵病态归根到底是列向量线性相关性太大，导致对应的特征值趋于0，且对应的解空间的自由度过大，解决的办法是去除自由度较大的方向（等同于特征向量？），保留scaling（特征值）较大的方向。    \n",
    "## 4.2 基于梯度的优化方法\n",
    "1. **方向导数**： 在u方向的方向导数表示函数f在u方向的斜率（将要变化的方向），即方向导数是函数$f(x+\\alpha u)$关于$\\alpha$的导数：    \n",
    "&emsp; $\\frac{\\partial}{\\partial \\alpha}f(x+\\alpha u) = u^{\\top}\\nabla _x f(x+\\alpha u) = {\\lVert u \\rVert}_2{\\lVert \\nabla_x f(x+\\alpha u)\\rVert}_2 cos\\theta$   \n",
    "其中$\\theta$是u与梯度的夹角，给定x, u与梯度都已定，所以找到使f下降最快的方向即简化为：$\\min \\limits_{\\quad u} cos\\theta$。即当u与梯度方向相反时取自小，而u又表示f将要变化的方向，所以**梯度下降法**建议新的点为：     \n",
    "&emsp; $ x^, = x+\\epsilon u$    \n",
    "&emsp; 通常u取$\\nabla_x f(x)$，同时$\\alpha=-1$,所以上式可以简化为 $x^, = x-\\epsilon \\nabla_x f(x)$    \n",
    "2. **Jacobian矩阵**：有时需要计算输入输出都是向量的函数的所有偏导数，如：我们又一个函数$f: R^m \\to R^n,\\  f$的Jacobian矩阵$J \\in R^{n\\times m}$定义为： $J_{i,j} = \\frac{\\partial}{\\partial x_j}f(x)_i$。    \n",
    "3. 二阶导数为正， 函数曲线向下凸，基于梯度的预测值小于代价函数。    \n",
    "二阶导数为负， 函数曲线向上凸，基于梯度的预测值大于代价函数。    \n",
    "4. **Hessian矩阵**: 多维输入函数的二阶导数，等价于梯度Jacobian矩阵。定义为：   \n",
    "&emsp; $ H(f)(x)_{i,j} = \\frac{\\partial^2}{\\partial x_i\\partial x_j}f(x)$    \n",
    "5. 结合Jacobian矩阵和Hessian矩阵的二级泰勒展开：    \n",
    "&emsp; $f(x) \\approx f(x^{(0)})+(x-x^{(0)})^{\\top}g+\\frac{1}{2}(x-x^{(0)})^{\\top}H(x-x^{(0)})$    \n",
    "如果使用学习率，新的点x将是$x^(0)-\\epsilon g$, 代入上式得：    \n",
    "&emsp; $f(x) \\approx f(x^{(0)})+\\epsilon g^{\\top}g+\\frac{1}{2}\\epsilon^2 g^{\\top}Hg$    \n",
    "上式包括三项：函数的原始值、函数斜率导致的预期改善和函数曲率导致的矫正，其中$\\epsilon$过大或过小都会导致泰勒级数不太准确，当$g^{\\top}Hg$为正时，使泰勒级数下降最多的最优步长为：    \n",
    "&emsp; $ \\epsilon^* = \\frac{g^{\\top}g}{g^{\\top}Hg}$    \n",
    "6.<img src=\"img/鞍点.png\", width=320, heigth=240>"
   ]
  },
  {
   "cell_type": "code",
   "execution_count": null,
   "metadata": {},
   "outputs": [],
   "source": []
  }
 ],
 "metadata": {
  "kernelspec": {
   "display_name": "Python 3",
   "language": "python",
   "name": "python3"
  },
  "language_info": {
   "codemirror_mode": {
    "name": "ipython",
    "version": 3
   },
   "file_extension": ".py",
   "mimetype": "text/x-python",
   "name": "python",
   "nbconvert_exporter": "python",
   "pygments_lexer": "ipython3",
   "version": "3.6.4"
  }
 },
 "nbformat": 4,
 "nbformat_minor": 1
}
