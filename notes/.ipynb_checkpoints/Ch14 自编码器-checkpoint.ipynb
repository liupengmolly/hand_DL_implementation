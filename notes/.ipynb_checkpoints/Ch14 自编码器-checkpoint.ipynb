{
 "cells": [
  {
   "cell_type": "markdown",
   "metadata": {},
   "source": [
    "**自编码器，顾名思义，自己对自己进行编码，即输入等于输出，具体网络先经过一个编码层得到中间表示h,然后经过解码层，恢复，这样学习到的中间层h可以作为输入的一种近似表示，学习到有用的特征**。  \n",
    "# 14.1 欠完备自编码器\n",
    "**欠完备**，即中间层的维度小于输入，这样强迫网络学习到重要的特征，对应的要注意，当编码层和解码层太大以及中间层维度大于输入时，网络难以学习到有用的特征。    \n",
    "# 14.2 正则自编码器      \n",
    "引入正则化，这样即使是过完备的，也能通过正则化约束特征的有效性，从而得到有效的特征。\n",
    "## 14.2.1稀疏自编码器\n",
    "顾名思义，在输入输出的loss上加稀疏正则化。      \n",
    "## 14.2.2 去噪自编码器       \n",
    "即将输入加上噪声，这样避免网络学到一个恒等的编码层与解码层表示，而是强迫学习到有用特征而丢掉噪声。    \n",
    "## 14.2.3 收缩自编码器      \n",
    "同样在损失函数中加入正则化，但不同于稀疏自编码器，加入特征参数的L2正则。"
   ]
  },
  {
   "cell_type": "code",
   "execution_count": null,
   "metadata": {},
   "outputs": [],
   "source": []
  }
 ],
 "metadata": {
  "kernelspec": {
   "display_name": "Python 3",
   "language": "python",
   "name": "python3"
  },
  "language_info": {
   "codemirror_mode": {
    "name": "ipython",
    "version": 3
   },
   "file_extension": ".py",
   "mimetype": "text/x-python",
   "name": "python",
   "nbconvert_exporter": "python",
   "pygments_lexer": "ipython3",
   "version": "3.6.4"
  }
 },
 "nbformat": 4,
 "nbformat_minor": 2
}
