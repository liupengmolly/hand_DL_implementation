{
 "cells": [
  {
   "cell_type": "markdown",
   "metadata": {},
   "source": [
    "**从多层网络出发到循环网络，利用到20世纪80年代机器学习和统计模型早期思想的优点：在模型不同部分共享参数，参数共享使得模型能扩展到不同形式（不同长度）的样本并泛化，如果每个时间点都有一个单独参数，不但不能泛化到任意长度，也不能在时间上共享不同序列长度和不同位置的统计强度**。  \n",
    "# 10.1 循环神经网络       \n",
    "循环神经网络包含以下几种重要的设计模式：    \n",
    "1. 每个时间步都有输出，并且隐藏单元之间有循环连接的循环网络,如下图:\n",
    "    <img src=\"img/RNN_mode_1.png\" height=240 width=360>    \n",
    "2. 每个时间步都产生输出，只有当前时刻的输出到下一时刻的隐藏单元之间有循环连接的循环网络：\n",
    "    <img src=\"img/RNN_mode_2.png\" height=240 width=360>     \n",
    "3. 读取整个序列后产生单个输出，隐藏单元之间存在循环连接的循环网络：    \n",
    "    <img src=\"img/RNN_mode_3.png\" height=240 width=360>     \n",
    "    "
   ]
  },
  {
   "cell_type": "code",
   "execution_count": null,
   "metadata": {},
   "outputs": [],
   "source": []
  }
 ],
 "metadata": {
  "kernelspec": {
   "display_name": "Python 3",
   "language": "python",
   "name": "python3"
  },
  "language_info": {
   "codemirror_mode": {
    "name": "ipython",
    "version": 3
   },
   "file_extension": ".py",
   "mimetype": "text/x-python",
   "name": "python",
   "nbconvert_exporter": "python",
   "pygments_lexer": "ipython3",
   "version": "3.6.4"
  }
 },
 "nbformat": 4,
 "nbformat_minor": 2
}
