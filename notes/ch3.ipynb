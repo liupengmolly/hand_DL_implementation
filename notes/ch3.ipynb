{
 "cells": [
  {
   "cell_type": "markdown",
   "metadata": {
    "collapsed": true
   },
   "source": [
    "# 3 概率论与信息论\n",
    "## 3.1 Bernoulli分布     \n",
    "&emsp;$ P(x=1)= \\phi $  \n",
    "&emsp;$ P(x=0) = 1- \\phi$    \n",
    "&emsp;$ P(x=x) = {\\phi}^x{\\phi}^{1-x}$    \n",
    "&emsp;$ E(x) = \\phi $    \n",
    "&emsp;$ Var(x) = \\phi(1-\\phi) $    \n",
    "## 3.2 Multinouli分布，高斯分布，多维高斯分布\n",
    "## 3.3 指数分布和laplace分布\n",
    "1. 在深度学习中，经常会需要一个在x=0处取得边界点的分布，可以使用指数分布：\n",
    "&emsp;$ p(x;\\lambda) = \\lambda 1_{x\\geq 0}exp(-\\lambda x)$    \n",
    "其中$1_{x\\geq 0}$使得当x取负值时概率为0。\n",
    "2. 与指数分布联系紧密的Laplace分布，允许在任意一点$\\mu$设置概率质量的峰值：    \n",
    "&emsp; $ Laplace(x;\\mu,\\gamma) = \\frac{1}{2\\gamma}exp(-\\frac{\\mid x-\\mu \\mid}{\\gamma}) $\n"
   ]
  },
  {
   "cell_type": "code",
   "execution_count": null,
   "metadata": {},
   "outputs": [],
   "source": []
  }
 ],
 "metadata": {
  "kernelspec": {
   "display_name": "Python 2",
   "language": "python",
   "name": "python2"
  },
  "language_info": {
   "codemirror_mode": {
    "name": "ipython",
    "version": 2
   },
   "file_extension": ".py",
   "mimetype": "text/x-python",
   "name": "python",
   "nbconvert_exporter": "python",
   "pygments_lexer": "ipython2",
   "version": "2.7.6"
  }
 },
 "nbformat": 4,
 "nbformat_minor": 0
}
