{
 "cells": [
  {
   "cell_type": "markdown",
   "metadata": {
    "collapsed": true
   },
   "source": [
    "#2 线性代数    \n",
    "##2.1 线性相关和生成子空间\n",
    "* 确定 $Ax = b$是否有解，相当于确定向量b是否在A列向量的生成子空间中，这个特殊的生成子空间被称为A的**列空间**或者A的**值域**\n",
    "> 假如A是3x2的矩阵，目标b是3维的， 但是x只有2维，那么无论如何修改x的值，也只能描绘出$R^3$空间中的2维平面，于是当且仅当向量b在该二维平面中时，该方程有解。"
   ]
  },
  {
   "cell_type": "code",
   "execution_count": null,
   "metadata": {},
   "outputs": [],
   "source": []
  }
 ],
 "metadata": {
  "kernelspec": {
   "display_name": "Python 2",
   "language": "python",
   "name": "python2"
  },
  "language_info": {
   "codemirror_mode": {
    "name": "ipython",
    "version": 2
   },
   "file_extension": ".py",
   "mimetype": "text/x-python",
   "name": "python",
   "nbconvert_exporter": "python",
   "pygments_lexer": "ipython2",
   "version": "2.7.6"
  }
 },
 "nbformat": 4,
 "nbformat_minor": 0
}
