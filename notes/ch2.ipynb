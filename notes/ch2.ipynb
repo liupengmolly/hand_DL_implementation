{
 "cells": [
  {
   "cell_type": "markdown",
   "metadata": {
    "collapsed": true
   },
   "source": [
    "#2 线性代数    \n",
    "##2.1 线性相关和生成子空间\n",
    "1. 确定 $Ax = b$是否有解，相当于确定向量b是否在A列向量的生成子空间中，这个特殊的生成子空间被称为A的**列空间**或者A的**值域**\n",
    "\n",
    "\t*假如A是3x2的矩阵，目标b是3维的， 但是x只有2维，那么无论如何修改x的值，也只能描绘出$R^3$空间中的2维平面，于是当且仅当向量b在该二维平面中时，该方程有解。*\n",
    "\n",
    "##2.2 范数\n",
    "1. 范数满足下列性质:\n",
    "\t* $f(x)=0 => x=0$\n",
    "\t* $f(x+y) \\leq f(x)+f(y)$\n",
    "\t* ${\\forall}{\\alpha} \\in R,\\  f({\\alpha}x)=|{\\alpha}|f(x)$    \n",
    "\n",
    "\t*有时会统计向量中非零元素的个数来衡量向量的大小，有些作者将其称为\"$L^0$范数\"，但是这个术语在数学意义上是不正确的，向量的非零元素的数目不是范数，因为不满足第三条性质，因此，$L^1$范数通常作为表示非零元素数目的替代函数。*\n",
    "\n",
    "2. 衡量矩阵的大小    \n",
    "${\\lVert A \\rVert}_F = \\sqrt{\\sum_{i,j} A_{i,j}^2}$\n",
    "类似于向量的$L^2$范数\n",
    "\n",
    "##2.3 特征分解\n",
    "1. $ Av = \\lambda v$, 也可以记作 $A=V diag(\\Lambda)V^{-1}$, 其中V是A的n个线性无关特征向量$\\{v^{(1)},...,v^{(n)}\\}$,\\  $\\Lambda$是特征值连接成的一个向量 $\\Lambda = [\\lambda_1,...,\\lambda_n]^{\\top}$。\n",
    "2. 每个实对称矩阵都可以分解成实特征向量和实特征值。    \n",
    "$ A=Q\\Lambda Q^{\\top} $，其中Q是A的特征向量组成的正交矩阵。x\n",
    "3. 特征分解唯一，当且仅当所有的特征值都是唯一的。\n",
    "\n",
    "##2.4 奇异值分解\n",
    "1. 正交变换保持向量的长度和向量间的夹角不变，或者正交变换保持向量的内积不变，而向量的长度和夹角都是由内积定义的，所以向量的长度和夹角不变\n",
    "2. 奇异值分解：    \n",
    "\t$ A=UDV^{\\top} $    \n",
    "    其中U的列向量称为左奇异向量，也是$AA^{\\top}$的特征向量，V的列向量称为右奇异向量，也是$A^{\\top}A$的特征向量\n",
    "3. 通过奇异值分解，矩阵A的伪逆是：    \n",
    "\t$ A^{\\top}=VD^{+}U^{\\top} $    \n",
    "  对于$Ax=y$, 当矩阵A的行数多于列数时，可能没有解，此时通过伪逆$x=A^{+}y$得到的x使得Ax和y的欧几里得距离${\\lVert Ax-y \\rVert}_2$最小;当矩阵A的列数多于行数时，方程可能有多个解， 但使用伪逆得到的解是方程所有可行解中欧几里得范数${\\lVert x \\rVert}_2$最小的一个。\n"
   ]
  },
  {
   "cell_type": "code",
   "execution_count": null,
   "metadata": {},
   "outputs": [],
   "source": []
  }
 ],
 "metadata": {
  "kernelspec": {
   "display_name": "Python 2",
   "language": "python",
   "name": "python2"
  },
  "language_info": {
   "codemirror_mode": {
    "name": "ipython",
    "version": 2
   },
   "file_extension": ".py",
   "mimetype": "text/x-python",
   "name": "python",
   "nbconvert_exporter": "python",
   "pygments_lexer": "ipython2",
   "version": "2.7.6"
  }
 },
 "nbformat": 4,
 "nbformat_minor": 0
}
