{
 "cells": [
  {
   "cell_type": "markdown",
   "metadata": {
    "collapsed": true
   },
   "source": [
    "#2 线性代数    \n",
    "##2.1 线性相关和生成子空间\n",
    "1. 确定 $Ax = b$是否有解，相当于确定向量b是否在A列向量的生成子空间中，这个特殊的生成子空间被称为A的**列空间**或者A的**值域**\n",
    "\n",
    "> 假如A是3x2的矩阵，目标b是3维的， 但是x只有2维，那么无论如何修改x的值，也只能描绘出$R^3$空间中的2维平面，于是当且仅当向量b在该二维平面中时，该方程有解。\n",
    "\n",
    "##2.2 范数\n",
    "1. 范数满足下列性质:\n",
    "\t* $f(x)=0 => x=0$\n",
    "\t* $f(x+y)<=f(x)+f(y)$\n",
    "\t* ${\\forall}{\\alpha} \\in R,\\  f({\\alpha}x)=|{\\alpha}|f(x)$\n",
    "\n",
    "> 有时会统计向量中非零元素的个数来衡量向量的大小，有些作者将其称为\"$L^0$范数\"，但是这个术语在数学意义上是不正确的，向量的非零元素的数目不是范数，因为不满足第三条性质，因此，$L^1$范数通常作为表示非零元素数目的替代函数。\n",
    "    \n",
    "\n",
    "2. 衡量矩阵的大小    \n",
    "${\\lVert A \\rVert}_F = \\sqrt{\\sum_{i,j} A_{i,j}^2}$\n",
    "类似于向量的$L^2$范数"
   ]
  },
  {
   "cell_type": "code",
   "execution_count": null,
   "metadata": {},
   "outputs": [],
   "source": []
  }
 ],
 "metadata": {
  "kernelspec": {
   "display_name": "Python 2",
   "language": "python",
   "name": "python2"
  },
  "language_info": {
   "codemirror_mode": {
    "name": "ipython",
    "version": 2
   },
   "file_extension": ".py",
   "mimetype": "text/x-python",
   "name": "python",
   "nbconvert_exporter": "python",
   "pygments_lexer": "ipython2",
   "version": "2.7.6"
  }
 },
 "nbformat": 4,
 "nbformat_minor": 0
}
