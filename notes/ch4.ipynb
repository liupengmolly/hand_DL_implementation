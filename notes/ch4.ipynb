{
 "cells": [
  {
   "cell_type": "markdown",
   "metadata": {
    "collapsed": true
   },
   "source": [
    "# 4 数值计算\n",
    "## 4.1 病态条件    \n",
    "条件数是指函数相对于输入的微小变化二变化的快慢程度，考虑函数$f(x) = A^{-1}x $， 当$A\\in R^{n\\times n}$具有特征分解时，其条件数为：    \n",
    "&emsp; $ \\max \\limits_{\\quad i,j} \\arrowvert \\frac{\\lambda_i}{\\lambda_j}\\arrowvert $    \n",
    "即最大特征值与最小特征值的模之比，当该数非常大时，矩阵求逆对输入的误差特别敏感。     \n",
    "矩阵病态归根到底是列向量线性相关性太大，导致对应的特征值趋于0，且对应的解空间的自由度过大，解决的办法是去除自由度较大的方向（等同于特征向量？），保留scaling（特征值）较大的方向。"
   ]
  },
  {
   "cell_type": "code",
   "execution_count": null,
   "metadata": {},
   "outputs": [],
   "source": []
  }
 ],
 "metadata": {
  "kernelspec": {
   "display_name": "Python 2",
   "language": "python",
   "name": "python2"
  },
  "language_info": {
   "codemirror_mode": {
    "name": "ipython",
    "version": 2
   },
   "file_extension": ".py",
   "mimetype": "text/x-python",
   "name": "python",
   "nbconvert_exporter": "python",
   "pygments_lexer": "ipython2",
   "version": "2.7.6"
  }
 },
 "nbformat": 4,
 "nbformat_minor": 0
}
